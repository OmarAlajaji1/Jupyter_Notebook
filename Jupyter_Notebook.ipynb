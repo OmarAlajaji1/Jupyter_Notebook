{
 "cells": [
  {
   "cell_type": "markdown",
   "metadata": {},
   "source": [
    "<center>\n",
    "    <img src=\"https://cf-courses-data.s3.us.cloud-object-storage.appdomain.cloud/IBMDeveloperSkillsNetwork-DS0105EN-SkillsNetwork/labs/Module2/images/SN_web_lightmode.png\" width=\"300\" alt=\"cognitiveclass.ai logo\">\n",
    "</center>\n"
   ]
  },
  {
   "cell_type": "markdown",
   "metadata": {},
   "source": [
    "#### Add your code below following the instructions given in the course\n"
   ]
  },
  {
   "cell_type": "markdown",
   "metadata": {
    "tags": []
   },
   "source": [
    "<h1>Jupyter_Notebook on IBM Watson Studio</h1>"
   ]
  },
  {
   "cell_type": "markdown",
   "metadata": {
    "tags": []
   },
   "source": [
    "<i>To be honest i dont have introdution to write but you know what i am super excited for this course</i>"
   ]
  },
  {
   "cell_type": "markdown",
   "metadata": {
    "tags": []
   },
   "source": [
    "# Data science languages\n",
    "<ol>\n",
    "<li> Python </li>\n",
    "<li> R </li>\n",
    "<li> SQL </li>\n",
    "</ol>"
   ]
  },
  {
   "cell_type": "markdown",
   "metadata": {
    "tags": []
   },
   "source": [
    "# Data science Libraries\n",
    "<ol>\n",
    "<li> Pandas </li>\n",
    "<li> Numpy </li>\n",
    "<li> Keras </li>\n",
    "</ol>"
   ]
  },
  {
   "cell_type": "markdown",
   "metadata": {},
   "source": [
    "# Data science Tools\n",
    "<ol>\n",
    "<li> Tableau </li>\n",
    "<li> Apache Spark </li>\n",
    "<li> Julia </li>\n",
    "</ol>"
   ]
  },
  {
   "cell_type": "markdown",
   "metadata": {
    "tags": []
   },
   "source": [
    "# Arithmetic Expressions Examples\n",
    "\n",
    "In mathematics and programming, arithmetic expressions are fundamental representations of mathematical operations. Let's explore some examples of basic arithmetic expressions:\n",
    "\n",
    "1. **Addition:**\n",
    "   - Example: \\(2 + 3 = 5\\)\n",
    "\n",
    "2. **Subtraction:**\n",
    "   - Example: \\(8 - 5 = 3\\)\n",
    "\n",
    "3. **Multiplication:**\n",
    "   - Example: \\(4 \\times 6 = 24\\)\n",
    "\n",
    "4. **Division:**\n",
    "   - Example: \\(10 \\div 2 = 5\\)\n",
    "\n",
    "These are simple examples, and arithmetic expressions can be more complex when combining multiple operations. Understanding these basic expressions is crucial for working with mathematical concepts in various fields, including programming and data analysis."
   ]
  },
  {
   "cell_type": "code",
   "execution_count": null,
   "metadata": {},
   "outputs": [],
   "source": [
    "# Multiply and Add Numbers\n",
    "number1 = 5\n",
    "number2 = 8\n",
    "\n",
    "# Multiplication\n",
    "result_multiply = number1 * number2\n",
    "\n",
    "# Addition\n",
    "result_add = number1 + number2\n",
    "\n",
    "result_multiply, result_add"
   ]
  }
 ],
 "metadata": {
  "kernelspec": {
   "display_name": "Python",
   "language": "python",
   "name": "conda-env-python-py"
  },
  "language_info": {
   "codemirror_mode": {
    "name": "ipython",
    "version": 3
   },
   "file_extension": ".py",
   "mimetype": "text/x-python",
   "name": "python",
   "nbconvert_exporter": "python",
   "pygments_lexer": "ipython3",
   "version": "3.7.12"
  }
 },
 "nbformat": 4,
 "nbformat_minor": 4
}
